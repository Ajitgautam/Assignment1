{
  "nbformat": 4,
  "nbformat_minor": 0,
  "metadata": {
    "colab": {
      "provenance": [],
      "authorship_tag": "ABX9TyPrAiuvZdMyS+giHd6Fag+7",
      "include_colab_link": true
    },
    "kernelspec": {
      "name": "python3",
      "display_name": "Python 3"
    },
    "language_info": {
      "name": "python"
    }
  },
  "cells": [
    {
      "cell_type": "markdown",
      "metadata": {
        "id": "view-in-github",
        "colab_type": "text"
      },
      "source": [
        "<a href=\"https://colab.research.google.com/github/Ajitgautam/Assignment1/blob/main/part1.ipynb\" target=\"_parent\"><img src=\"https://colab.research.google.com/assets/colab-badge.svg\" alt=\"Open In Colab\"/></a>"
      ]
    },
    {
      "cell_type": "code",
      "execution_count": 53,
      "metadata": {
        "id": "3NSonrFiLF5i"
      },
      "outputs": [],
      "source": [
        "import requests\n",
        "from bs4 import BeautifulSoup\n",
        "import pandas as pd\n",
        "import numpy as np"
      ]
    },
    {
      "cell_type": "code",
      "source": [
        "HEADERS = ({'User-Agent':  'Chrome/90.0.4430.212 Safari/537.36',\n",
        "            'Accept-Language': 'en-US, en;q=0.5'})"
      ],
      "metadata": {
        "id": "8O2jAVKGLnBw"
      },
      "execution_count": 54,
      "outputs": []
    },
    {
      "cell_type": "code",
      "source": [
        "url = \"https://www.amazon.in/s?k=bags&crid=2M096C61O4MLT&qid=1653308124&sprefix=ba%2Caps%2C283&ref=sr_pg_1\""
      ],
      "metadata": {
        "id": "eSlbkooUL-9C"
      },
      "execution_count": 55,
      "outputs": []
    },
    {
      "cell_type": "code",
      "source": [
        "r = requests.get(url, headers=HEADERS)"
      ],
      "metadata": {
        "id": "m5RnC4UFLyRA"
      },
      "execution_count": 56,
      "outputs": []
    },
    {
      "cell_type": "code",
      "source": [
        "soup = BeautifulSoup(r.content,\"html.parser\")"
      ],
      "metadata": {
        "id": "d8ODF7PmMO7C"
      },
      "execution_count": 57,
      "outputs": []
    },
    {
      "cell_type": "code",
      "source": [
        "# these are all used to extract links\n",
        "def get_links(soup):\n",
        "  all_links = []\n",
        "  for link in soup.find_all(\"a\", attrs = {'class' :'a-link-normal s-underline-text s-underline-link-text s-link-style a-text-normal'}):\n",
        "      link = \"https://www.amazon.in\" + link.get('href')\n",
        "      all_links.append(link)\n",
        "      return link"
      ],
      "metadata": {
        "id": "-SzTaGL9MQyC"
      },
      "execution_count": 58,
      "outputs": []
    },
    {
      "cell_type": "code",
      "source": [
        "def get_names(soup):\n",
        "  products_name = []\n",
        "  for Names in  soup.find_all('span', attrs = {'class': 'a-size-medium a-color-base a-text-normal'}):\n",
        "    products_name.append(Names)\n",
        "    return Names"
      ],
      "metadata": {
        "id": "jrZ-ZEqLODmX"
      },
      "execution_count": 59,
      "outputs": []
    },
    {
      "cell_type": "code",
      "source": [
        "def get_price(soup):\n",
        "  Price = soup.find_all('span', attrs = {'class': 'a-price-whole'})\n",
        "  Products_price = []\n",
        "  for prices in Price:\n",
        "    Products_price.append(prices)\n",
        "    return prices"
      ],
      "metadata": {
        "id": "Fx-XL7GBOEFn"
      },
      "execution_count": 60,
      "outputs": []
    },
    {
      "cell_type": "code",
      "source": [
        "def get_rating(soup):\n",
        "  ratings = soup.find_all('span', attrs = {'class': 'a-icon-alt'})\n",
        "  products_rating = []\n",
        "  for product in ratings:\n",
        "    products_rating.append(product)\n",
        "    return product"
      ],
      "metadata": {
        "id": "opY_8g9EOEVm"
      },
      "execution_count": 61,
      "outputs": []
    },
    {
      "cell_type": "code",
      "source": [
        "def get_reviews(soup):\n",
        "  review = soup.find_all('span', attrs = {'class': 'a-size-base s-underline-text'})\n",
        "  products_reviews = []\n",
        "  for reviews in review:\n",
        "    products_reviews.append(reviews)\n",
        "    return reviews"
      ],
      "metadata": {
        "id": "_oJO2D1IOEt3"
      },
      "execution_count": 62,
      "outputs": []
    },
    {
      "cell_type": "code",
      "source": [
        "d = {\"links\":[], \"Names\":[], \"prices\":[], \"product\":[],\"reviews\":[]}"
      ],
      "metadata": {
        "id": "Sk2UtjdQMwtn"
      },
      "execution_count": 63,
      "outputs": []
    },
    {
      "cell_type": "code",
      "source": [
        "d['links'].append(get_links(soup))\n",
        "d['Names'].append(get_names(soup))\n",
        "d['prices'].append(get_price(soup))\n",
        "d['product'].append(get_rating(soup))\n",
        "d['reviews'].append(get_reviews(soup))"
      ],
      "metadata": {
        "id": "Ji7cfbosNSZB"
      },
      "execution_count": 64,
      "outputs": []
    },
    {
      "cell_type": "code",
      "source": [
        "amazon_df = pd.DataFrame.from_dict(d)\n",
        "amazon_df = amazon_df.dropna(subset=['links'])\n",
        "amazon_df.to_csv(\"amazon_data.csv\", header=True, index=False)"
      ],
      "metadata": {
        "id": "OtpTZpJMRz0v"
      },
      "execution_count": 69,
      "outputs": []
    },
    {
      "cell_type": "code",
      "source": [
        "amazon_df"
      ],
      "metadata": {
        "colab": {
          "base_uri": "https://localhost:8080/",
          "height": 445
        },
        "id": "M9Hgl3Flt15X",
        "outputId": "2013abc0-e5e6-4540-c0e1-7df9fea15940"
      },
      "execution_count": 70,
      "outputs": [
        {
          "output_type": "execute_result",
          "data": {
            "text/plain": [
              "                                               links  \\\n",
              "0  https://www.amazon.in/Skybags-Brat-Black-Casua...   \n",
              "\n",
              "                                         Names prices                product  \\\n",
              "0  [Skybags Brat Black 46 Cms Casual Backpack]  [599]  [3.5 out of 5 stars.]   \n",
              "\n",
              "   reviews  \n",
              "0  [5,011]  "
            ],
            "text/html": [
              "\n",
              "  <div id=\"df-65384a75-57ff-4d89-b8c2-bdc34311222a\">\n",
              "    <div class=\"colab-df-container\">\n",
              "      <div>\n",
              "<style scoped>\n",
              "    .dataframe tbody tr th:only-of-type {\n",
              "        vertical-align: middle;\n",
              "    }\n",
              "\n",
              "    .dataframe tbody tr th {\n",
              "        vertical-align: top;\n",
              "    }\n",
              "\n",
              "    .dataframe thead th {\n",
              "        text-align: right;\n",
              "    }\n",
              "</style>\n",
              "<table border=\"1\" class=\"dataframe\">\n",
              "  <thead>\n",
              "    <tr style=\"text-align: right;\">\n",
              "      <th></th>\n",
              "      <th>links</th>\n",
              "      <th>Names</th>\n",
              "      <th>prices</th>\n",
              "      <th>product</th>\n",
              "      <th>reviews</th>\n",
              "    </tr>\n",
              "  </thead>\n",
              "  <tbody>\n",
              "    <tr>\n",
              "      <th>0</th>\n",
              "      <td>https://www.amazon.in/Skybags-Brat-Black-Casua...</td>\n",
              "      <td>[Skybags Brat Black 46 Cms Casual Backpack]</td>\n",
              "      <td>[599]</td>\n",
              "      <td>[3.5 out of 5 stars.]</td>\n",
              "      <td>[5,011]</td>\n",
              "    </tr>\n",
              "  </tbody>\n",
              "</table>\n",
              "</div>\n",
              "      <button class=\"colab-df-convert\" onclick=\"convertToInteractive('df-65384a75-57ff-4d89-b8c2-bdc34311222a')\"\n",
              "              title=\"Convert this dataframe to an interactive table.\"\n",
              "              style=\"display:none;\">\n",
              "        \n",
              "  <svg xmlns=\"http://www.w3.org/2000/svg\" height=\"24px\"viewBox=\"0 0 24 24\"\n",
              "       width=\"24px\">\n",
              "    <path d=\"M0 0h24v24H0V0z\" fill=\"none\"/>\n",
              "    <path d=\"M18.56 5.44l.94 2.06.94-2.06 2.06-.94-2.06-.94-.94-2.06-.94 2.06-2.06.94zm-11 1L8.5 8.5l.94-2.06 2.06-.94-2.06-.94L8.5 2.5l-.94 2.06-2.06.94zm10 10l.94 2.06.94-2.06 2.06-.94-2.06-.94-.94-2.06-.94 2.06-2.06.94z\"/><path d=\"M17.41 7.96l-1.37-1.37c-.4-.4-.92-.59-1.43-.59-.52 0-1.04.2-1.43.59L10.3 9.45l-7.72 7.72c-.78.78-.78 2.05 0 2.83L4 21.41c.39.39.9.59 1.41.59.51 0 1.02-.2 1.41-.59l7.78-7.78 2.81-2.81c.8-.78.8-2.07 0-2.86zM5.41 20L4 18.59l7.72-7.72 1.47 1.35L5.41 20z\"/>\n",
              "  </svg>\n",
              "      </button>\n",
              "      \n",
              "  <style>\n",
              "    .colab-df-container {\n",
              "      display:flex;\n",
              "      flex-wrap:wrap;\n",
              "      gap: 12px;\n",
              "    }\n",
              "\n",
              "    .colab-df-convert {\n",
              "      background-color: #E8F0FE;\n",
              "      border: none;\n",
              "      border-radius: 50%;\n",
              "      cursor: pointer;\n",
              "      display: none;\n",
              "      fill: #1967D2;\n",
              "      height: 32px;\n",
              "      padding: 0 0 0 0;\n",
              "      width: 32px;\n",
              "    }\n",
              "\n",
              "    .colab-df-convert:hover {\n",
              "      background-color: #E2EBFA;\n",
              "      box-shadow: 0px 1px 2px rgba(60, 64, 67, 0.3), 0px 1px 3px 1px rgba(60, 64, 67, 0.15);\n",
              "      fill: #174EA6;\n",
              "    }\n",
              "\n",
              "    [theme=dark] .colab-df-convert {\n",
              "      background-color: #3B4455;\n",
              "      fill: #D2E3FC;\n",
              "    }\n",
              "\n",
              "    [theme=dark] .colab-df-convert:hover {\n",
              "      background-color: #434B5C;\n",
              "      box-shadow: 0px 1px 3px 1px rgba(0, 0, 0, 0.15);\n",
              "      filter: drop-shadow(0px 1px 2px rgba(0, 0, 0, 0.3));\n",
              "      fill: #FFFFFF;\n",
              "    }\n",
              "  </style>\n",
              "\n",
              "      <script>\n",
              "        const buttonEl =\n",
              "          document.querySelector('#df-65384a75-57ff-4d89-b8c2-bdc34311222a button.colab-df-convert');\n",
              "        buttonEl.style.display =\n",
              "          google.colab.kernel.accessAllowed ? 'block' : 'none';\n",
              "\n",
              "        async function convertToInteractive(key) {\n",
              "          const element = document.querySelector('#df-65384a75-57ff-4d89-b8c2-bdc34311222a');\n",
              "          const dataTable =\n",
              "            await google.colab.kernel.invokeFunction('convertToInteractive',\n",
              "                                                     [key], {});\n",
              "          if (!dataTable) return;\n",
              "\n",
              "          const docLinkHtml = 'Like what you see? Visit the ' +\n",
              "            '<a target=\"_blank\" href=https://colab.research.google.com/notebooks/data_table.ipynb>data table notebook</a>'\n",
              "            + ' to learn more about interactive tables.';\n",
              "          element.innerHTML = '';\n",
              "          dataTable['output_type'] = 'display_data';\n",
              "          await google.colab.output.renderOutput(dataTable, element);\n",
              "          const docLink = document.createElement('div');\n",
              "          docLink.innerHTML = docLinkHtml;\n",
              "          element.appendChild(docLink);\n",
              "        }\n",
              "      </script>\n",
              "    </div>\n",
              "  </div>\n",
              "  "
            ]
          },
          "metadata": {},
          "execution_count": 70
        },
        {
          "output_type": "stream",
          "name": "stderr",
          "text": [
            "Traceback (most recent call last):\n",
            "  File \"/usr/local/lib/python3.10/dist-packages/google/colab/data_table.py\", line 188, in _repr_mimebundle_\n",
            "    mime_bundle[_JAVASCRIPT_MODULE_MIME_TYPE] = self._gen_js(dataframe)\n",
            "  File \"/usr/local/lib/python3.10/dist-packages/google/colab/data_table.py\", line 227, in _gen_js\n",
            "    formatted_data = _interactive_table_helper._format_data(  # pylint: disable=protected-access\n",
            "  File \"/usr/local/lib/python3.10/dist-packages/google/colab/_interactive_table_helper.py\", line 372, in _format_data\n",
            "    _to_js(formatted_value, default_formatter, html_encode=html_encode)\n",
            "  File \"/usr/local/lib/python3.10/dist-packages/google/colab/_interactive_table_helper.py\", line 145, in _to_js\n",
            "    x = x._repr_html_()  # pylint: disable=protected-access\n",
            "TypeError: 'NoneType' object is not callable\n",
            "Traceback (most recent call last):\n",
            "  File \"/usr/local/lib/python3.10/dist-packages/google/colab/data_table.py\", line 199, in _repr_javascript_module_\n",
            "    return self._gen_js(self._preprocess_dataframe())\n",
            "  File \"/usr/local/lib/python3.10/dist-packages/google/colab/data_table.py\", line 227, in _gen_js\n",
            "    formatted_data = _interactive_table_helper._format_data(  # pylint: disable=protected-access\n",
            "  File \"/usr/local/lib/python3.10/dist-packages/google/colab/_interactive_table_helper.py\", line 372, in _format_data\n",
            "    _to_js(formatted_value, default_formatter, html_encode=html_encode)\n",
            "  File \"/usr/local/lib/python3.10/dist-packages/google/colab/_interactive_table_helper.py\", line 145, in _to_js\n",
            "    x = x._repr_html_()  # pylint: disable=protected-access\n",
            "TypeError: 'NoneType' object is not callable\n"
          ]
        }
      ]
    }
  ]
}